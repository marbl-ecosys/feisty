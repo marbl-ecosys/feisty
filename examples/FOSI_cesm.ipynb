{
 "cells": [
  {
   "cell_type": "markdown",
   "id": "4cd7060d",
   "metadata": {
    "tags": []
   },
   "source": [
    "# Running FEISTY with forcing from CESM\n",
    "\n",
    "Kristen generated the forcing files, I believe with `/glade/u/home/kristenk/fish-offline/notebooks/proc-cesm-dple-fields.ipynb`.\n",
    "This notebook doesn't really need to be a notebook, I'm hoping it can be converted to a script instead.\n",
    "All the parameter settings are handled in the first (non-`import`) cell, where we read in `feisty-config.FOSI_CESM.yml`.\n",
    "This was run on a casper compute node with 15 GB of memory.\n",
    "\n",
    "## Imports"
   ]
  },
  {
   "cell_type": "code",
   "execution_count": 1,
   "id": "ee8b44b3",
   "metadata": {},
   "outputs": [],
   "source": [
    "import os\n",
    "\n",
    "import dask\n",
    "import matplotlib.pyplot as plt\n",
    "import numpy as np\n",
    "import xarray as xr\n",
    "import yaml\n",
    "from dask.distributed import Client\n",
    "from dask_jobqueue import PBSCluster\n",
    "\n",
    "import feisty"
   ]
  },
  {
   "cell_type": "markdown",
   "id": "5f0bb673",
   "metadata": {
    "tags": []
   },
   "source": [
    "## Configure run\n",
    "\n",
    "The FEISTY command `config_and_run_from_yaml()` needs a dictionary pointing to forcing streams and initial conditions.\n",
    "We provide a few `YAML` files containing acceptable configurations.\n",
    "There are also several parameters controlling how the run is set up."
   ]
  },
  {
   "cell_type": "code",
   "execution_count": 2,
   "id": "c5ab99ae-a358-4a1a-ad5b-861e8dcbc397",
   "metadata": {},
   "outputs": [],
   "source": [
    "# Read settings from YAML\n",
    "feisty_config_file = 'feisty-config.FOSI_CESM.yml'\n",
    "with open(feisty_config_file) as f:\n",
    "    feisty_config = yaml.safe_load(f)"
   ]
  },
  {
   "cell_type": "markdown",
   "id": "58fd19e8-afd1-4773-b41a-74a283a42633",
   "metadata": {},
   "source": [
    "## Set up Dask cluster\n",
    "\n",
    "Since the data in `ds` is chunked in `X`, we use a `dask` cluster to configure the parallelization"
   ]
  },
  {
   "cell_type": "code",
   "execution_count": 3,
   "id": "0c476b9d-5430-4080-ab8c-74ea67cdc53c",
   "metadata": {},
   "outputs": [
    {
     "name": "stderr",
     "output_type": "stream",
     "text": [
      "/glade/work/mlevy/miniconda3/envs/dev-feisty/lib/python3.11/site-packages/distributed/node.py:182: UserWarning: Port 8787 is already in use.\n",
      "Perhaps you already have a cluster running?\n",
      "Hosting the HTTP server on port 37843 instead\n",
      "  warnings.warn(\n"
     ]
    },
    {
     "data": {
      "text/html": [
       "<div>\n",
       "    <div style=\"width: 24px; height: 24px; background-color: #e1e1e1; border: 3px solid #9D9D9D; border-radius: 5px; position: absolute;\"> </div>\n",
       "    <div style=\"margin-left: 48px;\">\n",
       "        <h3 style=\"margin-bottom: 0px;\">Client</h3>\n",
       "        <p style=\"color: #9D9D9D; margin-bottom: 0px;\">Client-3c1945bf-a7ed-11ed-8ba4-3cecef1aca66</p>\n",
       "        <table style=\"width: 100%; text-align: left;\">\n",
       "\n",
       "        <tr>\n",
       "        \n",
       "            <td style=\"text-align: left;\"><strong>Connection method:</strong> Cluster object</td>\n",
       "            <td style=\"text-align: left;\"><strong>Cluster type:</strong> dask_jobqueue.PBSCluster</td>\n",
       "        \n",
       "        </tr>\n",
       "\n",
       "        \n",
       "            <tr>\n",
       "                <td style=\"text-align: left;\">\n",
       "                    <strong>Dashboard: </strong> <a href=\"proxy/37843/status\" target=\"_blank\">proxy/37843/status</a>\n",
       "                </td>\n",
       "                <td style=\"text-align: left;\"></td>\n",
       "            </tr>\n",
       "        \n",
       "\n",
       "        </table>\n",
       "\n",
       "        \n",
       "\n",
       "        \n",
       "            <details>\n",
       "            <summary style=\"margin-bottom: 20px;\"><h3 style=\"display: inline;\">Cluster Info</h3></summary>\n",
       "            <div class=\"jp-RenderedHTMLCommon jp-RenderedHTML jp-mod-trusted jp-OutputArea-output\">\n",
       "    <div style=\"width: 24px; height: 24px; background-color: #e1e1e1; border: 3px solid #9D9D9D; border-radius: 5px; position: absolute;\">\n",
       "    </div>\n",
       "    <div style=\"margin-left: 48px;\">\n",
       "        <h3 style=\"margin-bottom: 0px; margin-top: 0px;\">PBSCluster</h3>\n",
       "        <p style=\"color: #9D9D9D; margin-bottom: 0px;\">0b903c3c</p>\n",
       "        <table style=\"width: 100%; text-align: left;\">\n",
       "            <tr>\n",
       "                <td style=\"text-align: left;\">\n",
       "                    <strong>Dashboard:</strong> <a href=\"proxy/37843/status\" target=\"_blank\">proxy/37843/status</a>\n",
       "                </td>\n",
       "                <td style=\"text-align: left;\">\n",
       "                    <strong>Workers:</strong> 0\n",
       "                </td>\n",
       "            </tr>\n",
       "            <tr>\n",
       "                <td style=\"text-align: left;\">\n",
       "                    <strong>Total threads:</strong> 0\n",
       "                </td>\n",
       "                <td style=\"text-align: left;\">\n",
       "                    <strong>Total memory:</strong> 0 B\n",
       "                </td>\n",
       "            </tr>\n",
       "            \n",
       "        </table>\n",
       "\n",
       "        <details>\n",
       "            <summary style=\"margin-bottom: 20px;\">\n",
       "                <h3 style=\"display: inline;\">Scheduler Info</h3>\n",
       "            </summary>\n",
       "\n",
       "            <div style=\"\">\n",
       "    <div>\n",
       "        <div style=\"width: 24px; height: 24px; background-color: #FFF7E5; border: 3px solid #FF6132; border-radius: 5px; position: absolute;\"> </div>\n",
       "        <div style=\"margin-left: 48px;\">\n",
       "            <h3 style=\"margin-bottom: 0px;\">Scheduler</h3>\n",
       "            <p style=\"color: #9D9D9D; margin-bottom: 0px;\">Scheduler-0a42457f-b88d-4c34-98bb-85205ac4ea0f</p>\n",
       "            <table style=\"width: 100%; text-align: left;\">\n",
       "                <tr>\n",
       "                    <td style=\"text-align: left;\">\n",
       "                        <strong>Comm:</strong> tcp://10.12.206.39:38371\n",
       "                    </td>\n",
       "                    <td style=\"text-align: left;\">\n",
       "                        <strong>Workers:</strong> 0\n",
       "                    </td>\n",
       "                </tr>\n",
       "                <tr>\n",
       "                    <td style=\"text-align: left;\">\n",
       "                        <strong>Dashboard:</strong> <a href=\"proxy/37843/status\" target=\"_blank\">proxy/37843/status</a>\n",
       "                    </td>\n",
       "                    <td style=\"text-align: left;\">\n",
       "                        <strong>Total threads:</strong> 0\n",
       "                    </td>\n",
       "                </tr>\n",
       "                <tr>\n",
       "                    <td style=\"text-align: left;\">\n",
       "                        <strong>Started:</strong> Just now\n",
       "                    </td>\n",
       "                    <td style=\"text-align: left;\">\n",
       "                        <strong>Total memory:</strong> 0 B\n",
       "                    </td>\n",
       "                </tr>\n",
       "            </table>\n",
       "        </div>\n",
       "    </div>\n",
       "\n",
       "    <details style=\"margin-left: 48px;\">\n",
       "        <summary style=\"margin-bottom: 20px;\">\n",
       "            <h3 style=\"display: inline;\">Workers</h3>\n",
       "        </summary>\n",
       "\n",
       "        \n",
       "\n",
       "    </details>\n",
       "</div>\n",
       "\n",
       "        </details>\n",
       "    </div>\n",
       "</div>\n",
       "            </details>\n",
       "        \n",
       "\n",
       "    </div>\n",
       "</div>"
      ],
      "text/plain": [
       "<Client: 'tcp://10.12.206.39:38371' processes=0 threads=0, memory=0 B>"
      ]
     },
     "execution_count": 3,
     "metadata": {},
     "output_type": "execute_result"
    }
   ],
   "source": [
    "mem = 12  # GB\n",
    "dask.config.set({'distributed.dashboard.link': 'proxy/{port}/status'})\n",
    "# dask.config.set({\"distributed.comm.timeouts.tcp\": \"180s\"})\n",
    "# dask.config.set({\"distributed.comm.timeouts.connect\": \"180s\"})\n",
    "cluster = PBSCluster(\n",
    "    memory=f'{mem} GB',\n",
    "    processes=1,\n",
    "    cores=1,\n",
    "    queue='casper',\n",
    "    walltime='1:00:00',\n",
    "    resource_spec=f'select=1:ncpus=1:mem={mem}GB',\n",
    "    log_directory='./dask-logs',\n",
    ")\n",
    "\n",
    "cluster.scale(feisty_config['num_workers'])\n",
    "client = Client(cluster)\n",
    "client"
   ]
  },
  {
   "cell_type": "markdown",
   "id": "3538b22f",
   "metadata": {
    "tags": []
   },
   "source": [
    "## Run the model"
   ]
  },
  {
   "cell_type": "code",
   "execution_count": 4,
   "id": "a395fb41-2630-4880-8ad5-b573c200795d",
   "metadata": {
    "tags": []
   },
   "outputs": [
    {
     "name": "stdout",
     "output_type": "stream",
     "text": [
      "Starting template generation at 13:15:10\n",
      "CPU times: user 4.28 s, sys: 598 ms, total: 4.88 s\n",
      "Wall time: 1min 34s\n"
     ]
    }
   ],
   "source": [
    "%%time\n",
    "ds_out = feisty.config_and_run_from_yaml(feisty_config)\n",
    "da_out = ds_out[\"biomass\"]"
   ]
  },
  {
   "cell_type": "markdown",
   "id": "8938bdd5-2f5d-4820-b859-94a737c40fec",
   "metadata": {},
   "source": [
    "### Plotting\n",
    "\n",
    "Make a plot of `biomass` over time at a specified column"
   ]
  },
  {
   "cell_type": "code",
   "execution_count": 5,
   "id": "840b5ddd-3a3b-4345-bf7d-52984c22e68b",
   "metadata": {},
   "outputs": [],
   "source": [
    "# Select a column to look at\n",
    "\n",
    "### FOSI simulations\n",
    "X = 55000  # looks good compared to matlab (not plotted in this notebook)\n",
    "# X = 15633  # large error in small classes\n",
    "# X = 11677  # large error in medium classes\n",
    "# X = 76989  # large error in benthic"
   ]
  },
  {
   "cell_type": "code",
   "execution_count": 6,
   "id": "d904523a",
   "metadata": {},
   "outputs": [
    {
     "data": {
      "image/png": "[encoded data removed]",
      "text/plain": [
       "<Figure size 800x400 with 1 Axes>"
      ]
     },
     "metadata": {},
     "output_type": "display_data"
    }
   ],
   "source": [
    "fig, ax = plt.subplots(1, 1, figsize=(8, 4))\n",
    "for group in ds_out.group.data:\n",
    "    da_out.sel(group=group).isel(X=X).plot(ax=ax)\n",
    "ax.set_ylim([5e-7, 50])\n",
    "ax.set_yscale(\"log\")\n",
    "ax.set_title(\"python\")\n",
    "plt.legend(ds_out.group.data, bbox_to_anchor=(1.025, 0.5), loc=6)\n",
    "fig.suptitle(f\"biomass at X={X}\");"
   ]
  }
 ],
 "metadata": {
  "kernelspec": {
   "display_name": "Python [conda env:miniconda3-dev-feisty]",
   "language": "python",
   "name": "conda-env-miniconda3-dev-feisty-py"
  },
  "language_info": {
   "codemirror_mode": {
    "name": "ipython",
    "version": 3
   },
   "file_extension": ".py",
   "mimetype": "text/x-python",
   "name": "python",
   "nbconvert_exporter": "python",
   "pygments_lexer": "ipython3",
   "version": "3.11.0"
  }
 },
 "nbformat": 4,
 "nbformat_minor": 5
}
