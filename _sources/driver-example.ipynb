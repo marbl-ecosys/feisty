{
 "cells": [
  {
   "cell_type": "markdown",
   "id": "f606cb75-6746-4939-8243-f256ce02707b",
   "metadata": {},
   "source": [
    "# Running the model\n",
    "\n",
    "Setup a `feisty` integration.\n"
   ]
  },
  {
   "cell_type": "code",
   "execution_count": 1,
   "id": "3af897dd-f181-4306-9864-d2116795b0f7",
   "metadata": {},
   "outputs": [],
   "source": [
    "%load_ext autoreload\n",
    "%autoreload 2"
   ]
  },
  {
   "cell_type": "code",
   "execution_count": 2,
   "id": "46c9df26-5ac1-4511-9b9f-3b78a10dc4af",
   "metadata": {},
   "outputs": [],
   "source": [
    "import matplotlib.pyplot as plt\n",
    "\n",
    "import feisty"
   ]
  },
  {
   "cell_type": "markdown",
   "id": "fdd4db51-d57e-438f-8aa9-b8f2a905cd3e",
   "metadata": {},
   "source": [
    "## Configure testcase to run\n"
   ]
  },
  {
   "cell_type": "code",
   "execution_count": 3,
   "id": "3fb9073f-94d7-456a-8e2f-fcf37d04ad0e",
   "metadata": {},
   "outputs": [],
   "source": [
    "settings_in = dict()\n",
    "settings_in[\"benthic_prey\"] = {\n",
    "    \"defaults\": {\"benthic_efficiency\": 0.075, \"carrying_capacity\": 0},\n",
    "    \"members\": [{\"name\": \"benthic_prey\"}],\n",
    "}\n",
    "settings_in[\"food_web\"] = [\n",
    "    {\"predator\": \"Sf\", \"prey\": \"Zoo\", \"preference\": 1.0},\n",
    "    {\"predator\": \"Sp\", \"prey\": \"Zoo\", \"preference\": 1.0},\n",
    "    {\"predator\": \"Sd\", \"prey\": \"Zoo\", \"preference\": 1.0},\n",
    "    {\"predator\": \"Mf\", \"prey\": \"Zoo\", \"preference\": 0.45},\n",
    "    {\"predator\": \"Mf\", \"prey\": \"Sf\", \"preference\": 1.0},\n",
    "    {\"predator\": \"Mf\", \"prey\": \"Sp\", \"preference\": 1.0},\n",
    "    {\"predator\": \"Mf\", \"prey\": \"Sd\", \"preference\": 1.0},\n",
    "    {\"predator\": \"Mp\", \"prey\": \"Zoo\", \"preference\": 0.45},\n",
    "    {\"predator\": \"Mp\", \"prey\": \"Sf\", \"preference\": 1.0},\n",
    "    {\"predator\": \"Mp\", \"prey\": \"Sp\", \"preference\": 1.0},\n",
    "    {\"predator\": \"Mp\", \"prey\": \"Sd\", \"preference\": 1.0},\n",
    "    {\"predator\": \"Md\", \"prey\": \"benthic_prey\", \"preference\": 1.0},\n",
    "    {\"predator\": \"Lp\", \"prey\": \"Mf\", \"preference\": 0.5},\n",
    "    {\"predator\": \"Lp\", \"prey\": \"Mp\", \"preference\": 1.0},\n",
    "    {\"predator\": \"Lp\", \"prey\": \"Md\", \"preference\": 1.0},\n",
    "    {\"predator\": \"Ld\", \"prey\": \"Mf\", \"preference\": 0.375},\n",
    "    {\"predator\": \"Ld\", \"prey\": \"Mp\", \"preference\": 0.75},\n",
    "    {\"predator\": \"Ld\", \"prey\": \"Md\", \"preference\": 1.0},\n",
    "    {\"predator\": \"Ld\", \"prey\": \"benthic_prey\", \"preference\": 1.0},\n",
    "]"
   ]
  },
  {
   "cell_type": "markdown",
   "id": "f0e8e7d5-c76e-44c6-bd8f-7eedef102100",
   "metadata": {},
   "source": [
    "## Run the model\n"
   ]
  },
  {
   "cell_type": "code",
   "execution_count": 4,
   "id": "09ec80a2-06d0-42e8-be0f-935c0920cb81",
   "metadata": {},
   "outputs": [
    {
     "name": "stderr",
     "output_type": "stream",
     "text": [
      "/glade/work/mlevy/miniconda3/envs/dev-feisty/lib/python3.10/site-packages/xarray/core/dataset.py:2172: FutureWarning: None value for 'chunks' is deprecated. It will raise an error in the future. Use instead '{}'\n",
      "  warnings.warn(\n"
     ]
    },
    {
     "name": "stdout",
     "output_type": "stream",
     "text": [
      "Starting template generation at 14:44:48\n",
      "Starting run() at 14:44:48\n",
      "Integrating 730 steps (starting at 14:44:48)\n",
      "Starting a new output dataset for timestep 365 (14:44:58)\n",
      "Finished _solve at 14:45:08\n"
     ]
    }
   ],
   "source": [
    "ds_out = feisty.config_and_run_testcase(\n",
    "    \"tanh_shelf\",\n",
    "    \"cyclic\",\n",
    "    730,\n",
    "    settings_in=settings_in,\n",
    "    diagnostic_names=[\n",
    "        \"T_habitat\",\n",
    "        \"ingestion_rate\",\n",
    "        \"predation_flux\",\n",
    "        \"predation_rate\",\n",
    "        \"metabolism_rate\",\n",
    "        \"mortality_rate\",\n",
    "        \"energy_avail_rate\",\n",
    "        \"growth_rate\",\n",
    "        \"reproduction_rate\",\n",
    "        \"recruitment_flux\",\n",
    "        \"fish_catch_rate\",\n",
    "        \"encounter_rate_link\",\n",
    "        \"encounter_rate_total\",\n",
    "        \"consumption_rate_max_pred\",\n",
    "        \"consumption_rate_link\",\n",
    "    ],\n",
    ")"
   ]
  },
  {
   "cell_type": "markdown",
   "id": "f53afc03-87f3-42ce-a789-ab349749d5bc",
   "metadata": {},
   "source": [
    "# Output\n"
   ]
  },
  {
   "cell_type": "code",
   "execution_count": 5,
   "id": "7e0f185b-e03b-4650-9f41-01668903e797",
   "metadata": {},
   "outputs": [
    {
     "name": "stdout",
     "output_type": "stream",
     "text": [
      "xarray.Dataset {\n",
      "dimensions:\n",
      "\ttime = 730 ;\n",
      "\tgroup = 9 ;\n",
      "\tX = 22 ;\n",
      "\tfish = 8 ;\n",
      "\tfeeding_link = 19 ;\n",
      "\n",
      "variables:\n",
      "\tobject time(time) ;\n",
      "\tobject group(group) ;\n",
      "\tfloat64 X(X) ;\n",
      "\tobject fish(fish) ;\n",
      "\tobject feeding_link(feeding_link) ;\n",
      "\tfloat64 biomass(time, group, X) ;\n",
      "\tfloat64 T_habitat(time, fish, X) ;\n",
      "\tfloat64 ingestion_rate(time, fish, X) ;\n",
      "\tfloat64 predation_flux(time, fish, X) ;\n",
      "\tfloat64 predation_rate(time, fish, X) ;\n",
      "\tfloat64 metabolism_rate(time, fish, X) ;\n",
      "\tfloat64 mortality_rate(time, fish, X) ;\n",
      "\tfloat64 energy_avail_rate(time, fish, X) ;\n",
      "\tfloat64 growth_rate(time, fish, X) ;\n",
      "\tfloat64 reproduction_rate(time, fish, X) ;\n",
      "\tfloat64 recruitment_flux(time, fish, X) ;\n",
      "\tfloat64 fish_catch_rate(time, fish, X) ;\n",
      "\tfloat64 encounter_rate_link(time, feeding_link, X) ;\n",
      "\tfloat64 encounter_rate_total(time, fish, X) ;\n",
      "\tfloat64 consumption_rate_max_pred(time, fish, X) ;\n",
      "\tfloat64 consumption_rate_link(time, feeding_link, X) ;\n",
      "\t<U2 predator(feeding_link) ;\n",
      "\t<U12 prey(feeding_link) ;\n",
      "\n",
      "// global attributes:\n",
      "}"
     ]
    }
   ],
   "source": [
    "ds_out.info()"
   ]
  },
  {
   "cell_type": "code",
   "execution_count": 6,
   "id": "c66e77c7-b8a4-454c-966c-5c0501f153b7",
   "metadata": {},
   "outputs": [
    {
     "data": {
      "image/png": "[encoded data removed]",
      "text/plain": [
       "<Figure size 432x288 with 1 Axes>"
      ]
     },
     "metadata": {
      "needs_background": "light"
     },
     "output_type": "display_data"
    }
   ],
   "source": [
    "test_ds = ds_out.isel(X=0, time=0)\n",
    "for group in test_ds.group.data:\n",
    "    ds_out.biomass.sel(group=group).isel(X=0).plot(linewidth=2)\n",
    "plt.ylim([4e-6, 4])\n",
    "plt.yscale(\"log\")\n",
    "plt.legend(test_ds.group.data, bbox_to_anchor=(1.05, 1.0));"
   ]
  }
 ],
 "metadata": {
  "kernelspec": {
   "display_name": "Python [conda env:miniconda3-dev-feisty]",
   "language": "python",
   "name": "conda-env-miniconda3-dev-feisty-py"
  },
  "language_info": {
   "codemirror_mode": {
    "name": "ipython",
    "version": 3
   },
   "file_extension": ".py",
   "mimetype": "text/x-python",
   "name": "python",
   "nbconvert_exporter": "python",
   "pygments_lexer": "ipython3",
   "version": "3.10.4"
  }
 },
 "nbformat": 4,
 "nbformat_minor": 5
}
